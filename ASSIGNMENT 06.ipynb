{
 "cells": [
  {
   "cell_type": "markdown",
   "id": "d2ad4076",
   "metadata": {},
   "source": [
    "#  ASSINGMENT  06 (20 MAY)"
   ]
  },
  {
   "cell_type": "markdown",
   "id": "5ce609cb",
   "metadata": {},
   "source": [
    "que 1 =  What are keywords in python? Using the keyword library, print all the python keywords?\n",
    "\n",
    "ANS 1 =  In Python, keywords are reserved words that have special meanings and are used to define the structure and behavior of the code. Keywords cannot be used as identifiers (variable names, function names, etc.) because they are already predefined in the language. These keywords are an integral part of Python's syntax and serve specific purposes.\n",
    "\n",
    "To print all the Python keywords, you can use the keyword module. Here's how you can do it:"
   ]
  },
  {
   "cell_type": "code",
   "execution_count": 1,
   "id": "ff5cf7da",
   "metadata": {},
   "outputs": [
    {
     "name": "stdout",
     "output_type": "stream",
     "text": [
      "['False', 'None', 'True', 'and', 'as', 'assert', 'async', 'await', 'break', 'class', 'continue', 'def', 'del', 'elif', 'else', 'except', 'finally', 'for', 'from', 'global', 'if', 'import', 'in', 'is', 'lambda', 'nonlocal', 'not', 'or', 'pass', 'raise', 'return', 'try', 'while', 'with', 'yield']\n"
     ]
    }
   ],
   "source": [
    "import keyword\n",
    "\n",
    "# Get the list of all Python keywords\n",
    "keywords = keyword.kwlist\n",
    "print(keywords)\n"
   ]
  },
  {
   "cell_type": "markdown",
   "id": "d3828662",
   "metadata": {},
   "source": [
    "que 2 =  What are the rules to create variables in python?\n",
    "\n",
    "ans 2 =  In Python, variables are used to store data values. To create variables in Python, you need to follow certain rules and conventions:\n",
    "\n",
    "Variable Names:\n",
    "\n",
    "Variable names must start with a letter (a-z, A-Z) or an underscore (_).\n",
    "The subsequent characters in the variable name can be letters, underscores, or digits (0-9).\n",
    "Variable names are case-sensitive, which means myVar and myvar are considered different variables.\n",
    "Reserved Keywords:\n",
    "\n",
    "You cannot use Python reserved keywords (e.g., if, while, for, class, def, import, True, False, etc.) as variable names.\n",
    "No Spaces:\n",
    "\n",
    "Variable names cannot contain spaces. Use underscores (_) or camelCase (lowercase with words separated by capital letters) to improve readability, if needed.\n",
    "Pythonic Naming Conventions:\n",
    "\n",
    "Follow Python's naming conventions for better code readability:\n",
    "Use lowercase letters for variable names (e.g., my_variable).\n",
    "Use uppercase letters for constants (e.g., PI = 3.14159).\n",
    "Use descriptive and meaningful names that indicate the variable's purpose (e.g., counter instead of c, first_name instead of fn)."
   ]
  },
  {
   "cell_type": "markdown",
   "id": "13a97670",
   "metadata": {},
   "source": [
    "eg.\n",
    "my_name\n",
    "PI\n",
    "student_rollno\n",
    "employee_salary\n",
    "shop_adress\n"
   ]
  },
  {
   "cell_type": "markdown",
   "id": "23a1dd36",
   "metadata": {},
   "source": [
    "que 3 =  What are the standards and conventions followed for the nomenclature of variables in\n",
    "python to improve code readability and maintainability?\n",
    "\n",
    "ANS   =  In Python, following clear and consistent naming conventions for variables is crucial for improving code readability and maintainability. The most widely accepted standards are outlined in PEP 8, the Python Enhancement Proposal that provides style guidelines for Python code. Here are some key points from PEP 8 regarding variable naming conventions:\n",
    "\n",
    "Use descriptive names: Variable names should be meaningful and describe the purpose of the variable. Avoid single-letter or overly cryptic names like x, i, or temp. Instead, use names that convey the variable's intent, such as count, total_price, or user_input.\n",
    "\n",
    "Use lowercase with underscores: Variable names should be in lowercase letters, and words should be separated by underscores (snake_case). For example, item_count is preferred over itemCount or ItemCount.\n",
    "\n",
    "Avoid single-character names: Single-character variable names (except for very common variables like loop counters) should generally be avoided as they lack context and readability. Instead of i, use index or item.\n",
    "\n",
    "Be consistent: Maintain consistency in your variable naming throughout your codebase. If you use a particular naming convention for a variable in one part of your code, stick to the same convention elsewhere.\n",
    "\n",
    "Use meaningful variable prefixes: In some cases, it's useful to include a prefix to indicate the variable's type. Common prefixes include:\n",
    "\n",
    "str_ for string variables.\n",
    "int_ for integer variables.\n",
    "list_ for lists.\n",
    "dict_ for dictionaries.\n",
    "bool_ for boolean variables.\n",
    "However, this is not a strict rule and should be used judiciously when it adds clarity.\n",
    "\n",
    "Avoid using reserved words: Do not use Python reserved words as variable names. Reserved words are words that have special meanings in Python, such as if, for, while, class, etc.\n",
    "\n",
    "Use meaningful names for function arguments: When defining function parameters, use meaningful names that indicate the purpose of each argument. This makes it easier for someone reading the code to understand the function's behavior.\n",
    "\n",
    "Constants: If you have constants, use uppercase letters with underscores to separate words (e.g., MAX_VALUE, PI, CONFIG_FILE).\n",
    "\n",
    "Class names: Class names should use the CapWords or CamelCase convention, where each word in the name starts with an uppercase letter (e.g., MyClass, HTTPRequestHandler).\n",
    "\n",
    "Private variables: To indicate that a variable is intended for internal use within a module or class, you can prefix it with a single underscore (e.g., _internal_var). However, this is just a convention, and the variable is still accessible from outside the module or class.\n",
    "\n",
    "Following these naming conventions will make your Python code more readable and maintainable, which is especially important when working on collaborative projects or when revisiting your own code after some time.\n",
    "\n",
    "\n",
    "\n",
    "\n"
   ]
  },
  {
   "cell_type": "markdown",
   "id": "421a74e7",
   "metadata": {},
   "source": [
    "que 4 =  What will happen if a keyword is used as a variable name?\n",
    "\n",
    "ans 4 = If a keyword is used as a variable name in a programming language, it will typically result in a syntax error or compilation error. Keywords, also known as reserved words, are special words in a programming language that have predefined meanings and are used to define the structure and behavior of the code. Examples of keywords in programming languages include \"if,\" \"else,\" \"while,\" \"for,\" \"int,\" \"class,\" and many others.\n",
    "\n",
    "Here's what typically happens when a keyword is used as a variable name:\n",
    "\n",
    "Syntax Error: The programming language's compiler or interpreter will detect that a reserved keyword is being used as a variable name. This is considered a violation of the language's syntax rules, and it will generate a syntax error. The error message will usually indicate that you cannot use a reserved word as an identifier or variable name.\n",
    "\n",
    "Compilation Error: If the code is compiled, the compiler will stop the compilation process and display an error message. It will not generate executable code until the syntax error is fixed.\n",
    "\n",
    "Runtime Error (in some cases): In some programming languages, the use of a reserved keyword as a variable name might not be caught until runtime. However, even if the code compiles successfully, it will likely result in unexpected behavior or errors when the program is executed.\n",
    "\n",
    "To avoid this issue, it's essential to choose meaningful and descriptive variable names that do not conflict with reserved keywords. Most integrated development environments (IDEs) and code editors will provide syntax highlighting and error checking to help you identify and correct such issues while you are writing code."
   ]
  },
  {
   "cell_type": "markdown",
   "id": "dd34c04c",
   "metadata": {},
   "source": [
    "que 5 =  For what purpose def keyword is used?\n",
    "\n",
    "ans 5 =  The def keyword in Python is used to define a function. Functions in Python are blocks of reusable code that perform a specific task or a set of tasks. By using the def keyword, you can create your own functions and give them a name, which you can then call elsewhere in your code to execute the code within the function.\n",
    "\n",
    "Here's the basic syntax of defining a function using the def keyword:\n",
    "function_name is the name of the function, which you choose.\n",
    "parameters are optional and represent values or variables that can be passed into the function for it to operate on.\n",
    "The code inside the function is indented and specifies what the function does.\n",
    "return is used to specify the value that the function will produce and send back when it's called. Not all functions need to return a value; some may perform actions without returning anything."
   ]
  },
  {
   "cell_type": "code",
   "execution_count": 34,
   "id": "0023227d",
   "metadata": {},
   "outputs": [],
   "source": [
    "def function_name(parameters):\n",
    "    # Code to be executed when the function is called\n",
    "    # ...\n",
    "    return result\n"
   ]
  },
  {
   "cell_type": "markdown",
   "id": "c1dfb66a",
   "metadata": {},
   "source": [
    "que 6  =  What is the operation of this special character ‘\\’?\n",
    "\n",
    "ans 6  =  In Python, the backslash character (\\) is used as an escape character. It is used to represent special characters or escape sequences in strings. When you use a backslash followed by a specific character, it tells Python to treat that combination in a special way. Here are some common uses of the backslash in Python:\n",
    "\n",
    "Escape Sequences: Backslashes are used to escape certain characters that have special meanings in strings. For example:\n",
    "\n",
    "'\\n' represents a newline character.\n",
    "'\\t' represents a tab character.\n",
    "'\\\\' represents a single backslash character.\n",
    "\n",
    "eg."
   ]
  },
  {
   "cell_type": "code",
   "execution_count": 35,
   "id": "e4314f69",
   "metadata": {},
   "outputs": [
    {
     "name": "stdout",
     "output_type": "stream",
     "text": [
      "This is a newline\n",
      "This is a tab\tThis is a backslash \\\n"
     ]
    }
   ],
   "source": [
    "print(\"This is a newline\\nThis is a tab\\tThis is a backslash \\\\\")\n"
   ]
  },
  {
   "cell_type": "markdown",
   "id": "6c18bc66",
   "metadata": {},
   "source": [
    "Escape Double Quotes: You can use a backslash to escape double quotes within a string enclosed in double quotes:"
   ]
  },
  {
   "cell_type": "code",
   "execution_count": 36,
   "id": "7e3e890d",
   "metadata": {},
   "outputs": [
    {
     "name": "stdout",
     "output_type": "stream",
     "text": [
      "He said, \"Hello!\"\n"
     ]
    }
   ],
   "source": [
    "print(\"He said, \\\"Hello!\\\"\")\n"
   ]
  },
  {
   "cell_type": "markdown",
   "id": "dac495f2",
   "metadata": {},
   "source": [
    "Escape Single Quotes: Similarly, you can use a backslash to escape single quotes within a string enclosed in single quotes:"
   ]
  },
  {
   "cell_type": "code",
   "execution_count": 39,
   "id": "6a87b971",
   "metadata": {},
   "outputs": [
    {
     "name": "stdout",
     "output_type": "stream",
     "text": [
      "She said, 'Hi!'\n"
     ]
    }
   ],
   "source": [
    "print('She said, \\'Hi!\\'')\n"
   ]
  },
  {
   "cell_type": "markdown",
   "id": "4bf44340",
   "metadata": {},
   "source": [
    "Raw Strings: You can create a raw string by prefixing the string literal with r or R. In a raw string, backslashes are treated as literal characters and not as escape characters."
   ]
  },
  {
   "cell_type": "code",
   "execution_count": 46,
   "id": "2a3b3df1",
   "metadata": {},
   "outputs": [
    {
     "name": "stdout",
     "output_type": "stream",
     "text": [
      "This is a raw string\\n\n"
     ]
    }
   ],
   "source": [
    "raw_string = r\"This is a raw string\\n\"\n",
    "print(raw_string)\n",
    "\n"
   ]
  },
  {
   "cell_type": "markdown",
   "id": "6da09656",
   "metadata": {},
   "source": [
    "que 7 =  Give an example of the following conditions:\n",
    "(i) Homogeneous list\n",
    "(ii) Heterogeneous set\n",
    "(iii) Homogeneous tuple\n",
    "\n",
    "ans 7 = Certainly, here are examples of each of the conditions you mentioned:\n",
    "\n",
    "(i) Homogeneous list:\n",
    "A homogeneous list is a list in which all the elements are of the same data type. For example, a list of integers would be a homogeneous list\n"
   ]
  },
  {
   "cell_type": "code",
   "execution_count": 49,
   "id": "3376de0f",
   "metadata": {},
   "outputs": [],
   "source": [
    "homogeneous_list = [1, 2, 3, 4, 5]"
   ]
  },
  {
   "cell_type": "markdown",
   "id": "c38df409",
   "metadata": {},
   "source": [
    "In this example, all the elements in the list are of the integer data type.\n",
    "\n",
    "(ii) Heterogeneous Set:\n",
    "A heterogeneous set contains elements of different data types. In Python, sets typically contain elements of the same data type, but you can create a set with elements of different data types using a tuple. Here's an example:"
   ]
  },
  {
   "cell_type": "code",
   "execution_count": 51,
   "id": "83294bac",
   "metadata": {},
   "outputs": [],
   "source": [
    "heterogeneous_set = set(('apple', 2, 3.14, True))\n"
   ]
  },
  {
   "cell_type": "markdown",
   "id": "46fab987",
   "metadata": {},
   "source": [
    "In this example, the set contains elements of different data types: a string ('apple'), an integer (2), a float (3.14), and a boolean (True).\n",
    "\n",
    "(iii) Homogeneous Tuple:\n",
    "A homogeneous tuple contains elements of the same data type. Here's an example of a homogeneous tuple containing strings:"
   ]
  },
  {
   "cell_type": "code",
   "execution_count": 52,
   "id": "2efddd23",
   "metadata": {},
   "outputs": [],
   "source": [
    "homogeneous_tuple = ('apple', 'banana', 'cherry')\n"
   ]
  },
  {
   "cell_type": "markdown",
   "id": "2daf0350",
   "metadata": {},
   "source": [
    "In this example, all the elements in the tuple are of the string data type"
   ]
  },
  {
   "cell_type": "code",
   "execution_count": null,
   "id": "8b0e0130",
   "metadata": {},
   "outputs": [],
   "source": [
    "QUE 8 = Explain the mutable and immutable data types with proper explanation & examples?\n",
    "\n",
    "ANS 8 = In Python, data types can be categorized as either mutable or immutable based on whether their values can be changed after they are created. Understanding this distinction is crucial for working effectively with Python's data structures and avoiding unexpected behavior. Let's explore both mutable and immutable data types in Python with examples:\n",
    "\n",
    "Immutable Data Types in Python:\n",
    "\n",
    "Integers (int): Integers are immutable. When you perform arithmetic operations or assign a new value to an integer, a new integer object is created.\n",
    "\n",
    "python\n",
    "Copy code\n",
    "x = 5\n",
    "y = x + 2\n",
    "print(x)  # Output: 5\n",
    "print(y)  # Output: 7\n",
    "Floats (float): Floats behave the same way as integers in terms of immutability.\n",
    "\n",
    "python\n",
    "Copy code\n",
    "a = 3.14\n",
    "b = a * 2\n",
    "print(a)  # Output: 3.14\n",
    "print(b)  # Output: 6.28\n",
    "Strings (str): Strings in Python are immutable. When you manipulate a string, a new string object is created with the modified content.\n",
    "\n",
    "python\n",
    "Copy code\n",
    "original_string = \"Hello, \"\n",
    "new_string = original_string + \"world\"\n",
    "print(original_string)  # Output: \"Hello, \"\n",
    "print(new_string)       # Output: \"Hello, world\"\n",
    "Tuples (tuple): Tuples are ordered, immutable collections. Once a tuple is created, its elements cannot be modified.\n",
    "\n",
    "python\n",
    "Copy code\n",
    "my_tuple = (1, 2, 3)\n",
    "# Attempting to modify a tuple will result in an error:\n",
    "# my_tuple[0] = 10  # This will raise a TypeError\n",
    "Mutable Data Types in Python:\n",
    "\n",
    "Lists (list): Lists are ordered collections of elements that can be modified by adding, removing, or changing elements.\n",
    "\n",
    "python\n",
    "Copy code\n",
    "my_list = [1, 2, 3]\n",
    "my_list.append(4)\n",
    "print(my_list)  # Output: [1, 2, 3, 4]\n",
    "Dictionaries (dict): Dictionaries are key-value pairs where the values can be modified by changing or adding key-value pairs.\n",
    "\n",
    "python\n",
    "Copy code\n",
    "my_dict = {\"name\": \"Alice\", \"age\": 30}\n",
    "my_dict[\"age\"] = 31\n",
    "print(my_dict)  # Output: {\"name\": \"Alice\", \"age\": 31}\n",
    "Sets (set): Sets are collections of unique elements that can be modified by adding or removing elements.\n",
    "\n",
    "python\n",
    "Copy code\n",
    "my_set = {1, 2, 3}\n",
    "my_set.add(4)\n",
    "print(my_set)  # Output: {1, 2, 3, 4}\n",
    "Bytearrays (bytearray): Bytearrays are mutable sequences of bytes. You can change individual elements in a bytearray.\n",
    "\n",
    "python\n",
    "Copy code\n",
    "my_bytearray = bytearray([65, 66, 67])  # Represents 'ABC' in ASCII\n",
    "my_bytearray[1] = 68  # Change 'B' to 'D'\n",
    "print(my_bytearray)  # Output: bytearray(b'ADC')"
   ]
  },
  {
   "cell_type": "code",
   "execution_count": null,
   "id": "cfdd7f70",
   "metadata": {},
   "outputs": [],
   "source": [
    "que 9  =  Write a code to create the given structure using only for loop.\n",
    "\n",
    "    *\n",
    "   ***\n",
    "  ******\n",
    " ********\n",
    "********** \n",
    "ans 9 ="
   ]
  },
  {
   "cell_type": "code",
   "execution_count": 26,
   "id": "4c7d5a87",
   "metadata": {},
   "outputs": [
    {
     "name": "stdout",
     "output_type": "stream",
     "text": [
      "    *\n",
      "   ***\n",
      "  *****\n",
      " *******\n",
      "*********\n"
     ]
    }
   ],
   "source": [
    "num_rows = 5\n",
    "for i in range(1, num_rows + 1):\n",
    "    for j in range(num_rows - i):\n",
    "        print(\" \", end=\"\")\n",
    "    for k in range(2 * i - 1):\n",
    "        print(\"*\", end=\"\")\n",
    "    print()\n"
   ]
  },
  {
   "cell_type": "raw",
   "id": "6e5330f1",
   "metadata": {},
   "source": [
    "que 10 = Write a code to create the given structure using while loop.\n",
    "|||||||||\n",
    " |||||||\n",
    "  |||||\n",
    "   |||\n",
    "    |\n",
    "ans 10 = "
   ]
  },
  {
   "cell_type": "code",
   "execution_count": 33,
   "id": "4c2a09dd",
   "metadata": {},
   "outputs": [
    {
     "name": "stdout",
     "output_type": "stream",
     "text": [
      "|||||||||\n",
      " |||||||\n",
      "  |||||\n",
      "   |||\n",
      "    |\n"
     ]
    }
   ],
   "source": [
    "num_rows = 9\n",
    "while  num_rows >= 1:\n",
    "    num_spaces  = (9 - num_rows) // 2\n",
    "    print(' ' * num_spaces , end='')\n",
    "    for _ in range(num_rows):\n",
    "        print('|', end= '')\n",
    "    print()\n",
    "    num_rows -= 2\n"
   ]
  },
  {
   "cell_type": "code",
   "execution_count": null,
   "id": "51d1d98a",
   "metadata": {},
   "outputs": [],
   "source": []
  },
  {
   "cell_type": "code",
   "execution_count": null,
   "id": "f5e05304",
   "metadata": {},
   "outputs": [],
   "source": []
  }
 ],
 "metadata": {
  "kernelspec": {
   "display_name": "Python 3 (ipykernel)",
   "language": "python",
   "name": "python3"
  },
  "language_info": {
   "codemirror_mode": {
    "name": "ipython",
    "version": 3
   },
   "file_extension": ".py",
   "mimetype": "text/x-python",
   "name": "python",
   "nbconvert_exporter": "python",
   "pygments_lexer": "ipython3",
   "version": "3.11.4"
  }
 },
 "nbformat": 4,
 "nbformat_minor": 5
}
